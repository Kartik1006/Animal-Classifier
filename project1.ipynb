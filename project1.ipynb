{
 "cells": [
  {
   "cell_type": "code",
   "execution_count": null,
   "id": "4ea1a181",
   "metadata": {
    "scrolled": true
   },
   "outputs": [],
   "source": [
    "%pip install matplotlib"
   ]
  },
  {
   "cell_type": "code",
   "execution_count": null,
   "id": "4fa77bca",
   "metadata": {},
   "outputs": [],
   "source": [
    "%pip install tensorflow"
   ]
  },
  {
   "cell_type": "code",
   "execution_count": null,
   "id": "c5fe9084",
   "metadata": {},
   "outputs": [],
   "source": [
    "%pip install scikeras"
   ]
  },
  {
   "cell_type": "code",
   "execution_count": null,
   "id": "cd6cb7f2",
   "metadata": {},
   "outputs": [],
   "source": [
    "import os\n",
    "import math, numpy as np\n",
    "import matplotlib.pyplot as plt\n",
    "from pathlib import Path\n",
    "\n",
    "import tensorflow as tf\n",
    "from tensorflow.keras import layers, models\n",
    "from tensorflow.keras.preprocessing import image_dataset_from_directory\n",
    "from tensorflow.keras.applications import MobileNetV2\n",
    "from tensorflow.keras.applications.mobilenet_v2 import preprocess_input\n",
    "\n",
    "from scikeras.wrappers import KerasClassifier\n",
    "import joblib"
   ]
  },
  {
   "cell_type": "code",
   "execution_count": null,
   "id": "d08cc8de",
   "metadata": {},
   "outputs": [],
   "source": [
    "DATA_DIR = Path('dataset')\n",
    "\n",
    "AUTOTUNE = tf.data.AUTOTUNE\n",
    "batch_size = 32\n",
    "img_size = (224, 224)\n",
    "\n",
    "train_ds = tf.keras.utils.image_dataset_from_directory(\n",
    "    \"dataset\", validation_split=0.2, subset=\"training\", seed=123,\n",
    "    image_size=img_size, batch_size=batch_size\n",
    ")\n",
    "val_ds = tf.keras.utils.image_dataset_from_directory(\n",
    "    \"dataset\", validation_split=0.2, subset=\"validation\", seed=123,\n",
    "    image_size=img_size, batch_size=batch_size\n",
    ")\n",
    "class_names = train_ds.class_names\n",
    "\n",
    "data_augmentation = tf.keras.Sequential([\n",
    "    layers.RandomFlip(\"horizontal\"),\n",
    "    layers.RandomRotation(0.1),\n",
    "    layers.RandomZoom(0.1),\n",
    "])\n",
    "\n",
    "train_ds = (train_ds\n",
    "    .shuffle(1000)\n",
    "    .map(lambda x,y: (preprocess_input(tf.cast(data_augmentation(x, training=True), tf.float32)), y),\n",
    "         num_parallel_calls=AUTOTUNE)\n",
    "    .cache().prefetch(AUTOTUNE)\n",
    ")\n",
    "val_ds = (val_ds\n",
    "    .map(lambda x,y: (preprocess_input(tf.cast(x, tf.float32)), y),\n",
    "         num_parallel_calls=AUTOTUNE)\n",
    "    .cache().prefetch(AUTOTUNE)\n",
    ")\n",
    "\n",
    "# --- sanity check: should be in [-1, 1] ---\n",
    "for xb, yb in train_ds.take(1):\n",
    "    print(\"range:\", float(tf.reduce_min(xb)), float(tf.reduce_max(xb)))  # expect ~[-1, 1]\n",
    "\n",
    "# --- model (NO preprocess_input here) ---\n",
    "def build_model(num_classes):\n",
    "    base = MobileNetV2(input_shape=(*img_size, 3), include_top=False, weights=\"imagenet\")\n",
    "    base.trainable = False\n",
    "\n",
    "    inputs = layers.Input(shape=(*img_size, 3))\n",
    "    x = base(inputs, training=False)        # inputs already preprocessed\n",
    "    x = layers.GlobalAveragePooling2D()(x)\n",
    "    x = layers.Dropout(0.3)(x)\n",
    "    outputs = layers.Dense(num_classes, activation=\"softmax\")(x)\n",
    "    model = models.Model(inputs, outputs)\n",
    "\n",
    "    model.compile(optimizer=tf.keras.optimizers.Adam(1e-3),\n",
    "                  loss=\"sparse_categorical_crossentropy\",\n",
    "                  metrics=[\"accuracy\"])\n",
    "    return model\n",
    "\n",
    "model = build_model(len(class_names))\n",
    "\n",
    "history = model.fit(train_ds, validation_data=val_ds, epochs=10)"
   ]
  },
  {
   "cell_type": "code",
   "execution_count": null,
   "id": "a59fddfe",
   "metadata": {},
   "outputs": [],
   "source": [
    "base_model.trainable = True\n",
    "for layer in model.get_layer(\"mobilenetv2_1.00_224\").layers[:100]:  # freeze first 100 layers\n",
    "    layer.trainable = False\n",
    "\n",
    "model.compile(\n",
    "    optimizer=tf.keras.optimizers.Adam(learning_rate=1e-5),\n",
    "    loss='sparse_categorical_crossentropy',\n",
    "    metrics=['accuracy']\n",
    ")\n",
    "\n",
    "history_fine = model.fit(train_ds, validation_data=val_ds, epochs=5)"
   ]
  },
  {
   "cell_type": "code",
   "execution_count": null,
   "id": "05453eb2",
   "metadata": {},
   "outputs": [],
   "source": [
    "acc = history.history['accuracy'] + history_fine.history['accuracy']\n",
    "val_acc = history.history['val_accuracy'] + history_fine.history['val_accuracy']\n",
    "loss = history.history['loss'] + history_fine.history['loss']\n",
    "val_loss = history.history['val_loss'] + history_fine.history['val_loss']\n",
    "\n",
    "import matplotlib.pyplot as plt\n",
    "epochs_range = range(len(acc))\n",
    "plt.figure(figsize=(12,4))\n",
    "plt.subplot(1,2,1)\n",
    "plt.plot(epochs_range, acc, label='Training Accuracy')\n",
    "plt.plot(epochs_range, val_acc, label='Validation Accuracy')\n",
    "plt.axvline(x=len(history.history['accuracy'])-1, linestyle='--', label='Fine-tune start')\n",
    "plt.legend(loc='lower right'); plt.title('Accuracy over Epochs')\n",
    "\n",
    "plt.subplot(1,2,2)\n",
    "plt.plot(epochs_range, loss, label='Training Loss')\n",
    "plt.plot(epochs_range, val_loss, label='Validation Loss')\n",
    "plt.axvline(x=len(history.history['accuracy'])-1, linestyle='--')\n",
    "plt.legend(loc='upper right'); plt.title('Loss over Epochs')\n",
    "plt.show()"
   ]
  },
  {
   "cell_type": "code",
   "execution_count": null,
   "id": "47995916",
   "metadata": {},
   "outputs": [],
   "source": [
    "model.save(\"animal_classifier.h5\")"
   ]
  }
 ],
 "metadata": {
  "kernelspec": {
   "display_name": "Python 3",
   "language": "python",
   "name": "python3"
  },
  "language_info": {
   "codemirror_mode": {
    "name": "ipython",
    "version": 3
   },
   "file_extension": ".py",
   "mimetype": "text/x-python",
   "name": "python",
   "nbconvert_exporter": "python",
   "pygments_lexer": "ipython3",
   "version": "3.13.1"
  }
 },
 "nbformat": 4,
 "nbformat_minor": 5
}
